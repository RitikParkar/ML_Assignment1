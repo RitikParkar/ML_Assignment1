{
 "cells": [
  {
   "cell_type": "code",
   "execution_count": 1,
   "metadata": {},
   "outputs": [],
   "source": [
    "import numpy as np\n",
    "import matplotlib as plt\n",
    "import pandas as pd\n",
    "import matplotlib.pyplot as plt \n",
    "%matplotlib inline\n",
    "\n",
    "house_data=pd.read_csv('~/Downloads/housepricedata.csv')\n",
    "\n"
   ]
  },
  {
   "cell_type": "markdown",
   "metadata": {},
   "source": [
    "Splitting and normalising the normalised Data:"
   ]
  },
  {
   "cell_type": "code",
   "execution_count": 2,
   "metadata": {},
   "outputs": [],
   "source": [
    "def split_train_test(data,test_ratio):\n",
    "    shuffled_indices=np.random.permutation(len(data))\n",
    "    test_set_size=int(test_ratio*len(data))\n",
    "    test_indices=shuffled_indices[:test_set_size]\n",
    "    train_indices=shuffled_indices[test_set_size:]\n",
    "    return data.iloc[train_indices],data.iloc[test_indices]\n",
    "    \n",
    "\n",
    "training_data,testing_data=split_train_test(house_data,0.2)\n",
    "X_train=training_data.drop(['AboveMedianPrice'],axis=1)\n",
    "Y_trainl=training_data['AboveMedianPrice']\n",
    "Y_train=pd.DataFrame(Y_trainl)\n",
    "\n",
    "\n",
    "\n",
    "#Normalising training data:\n",
    "\n",
    "X_train=(X_train-X_train.mean())/X_train.std()\n",
    "\n",
    "#converting dataframes to numpy arrays:\n",
    "\n",
    "x=X_train.to_numpy()\n",
    "y=Y_train.to_numpy()\n",
    "\n",
    "\n",
    "X_test=testing_data.drop(['AboveMedianPrice'],axis=1)\n",
    "Y_testl=testing_data['AboveMedianPrice']\n",
    "Y_test=pd.DataFrame(Y_testl)\n",
    "\n",
    "#normalising testing data:\n",
    "\n",
    "X_test=(X_test-X_test.mean())/X_test.std()\n",
    "\n",
    "#converting dataframes to numpy arrays:\n",
    "\n",
    "x_test=X_test.to_numpy()\n",
    "y_test=Y_test.to_numpy()\n"
   ]
  },
  {
   "cell_type": "markdown",
   "metadata": {},
   "source": [
    "Initialization of weight paramters using a dict which stores parameters for each layer:"
   ]
  },
  {
   "cell_type": "code",
   "execution_count": 3,
   "metadata": {},
   "outputs": [],
   "source": [
    "def Initialisation(layers):\n",
    "    parameters={}\n",
    "    L=len(layers)\n",
    "    print('Enter which distribution do you want to use to initialise the parameters (gaussian/uniform):')\n",
    "    distr=str(input())\n",
    "    for l in range(1,L):\n",
    "        if(distr=='gaussian'):\n",
    "            parameters['W'+str(l)]=np.random.normal(0,1,(layers[l],layers[l-1]))\n",
    "        if(distr=='uniform'):\n",
    "            parameters['W'+str(l)]=np.random.uniform(0,1,(layers[l],layers[l-1]))\n",
    "        \n",
    "        parameters['b'+str(l)]=np.zeros([layers[l],1])\n",
    "    return parameters"
   ]
  },
  {
   "cell_type": "markdown",
   "metadata": {},
   "source": [
    "Defining activation functions and their derivatives:"
   ]
  },
  {
   "cell_type": "code",
   "execution_count": 4,
   "metadata": {},
   "outputs": [],
   "source": [
    "def Relu(Aa):\n",
    "    return np.maximum(Aa,0)\n",
    "def DRelu(x):\n",
    "    x[x<=0] = 0\n",
    "    x[x>0] = 1\n",
    "    return x\n",
    "\n",
    "def sig(a):\n",
    "    return (1/(1+np.exp(-a)))\n",
    "def Dsig(a):\n",
    "    return a*(1-a)\n",
    "\n",
    "def tanh(x):\n",
    "    t=np.tanh(x)\n",
    "    return t\n",
    "def Dtanh(x):\n",
    "    dt=1-x**2\n",
    "    return dt\n",
    "    "
   ]
  },
  {
   "cell_type": "markdown",
   "metadata": {},
   "source": [
    "Defining the function for calculating activations from the parameters, in this a list cache is used to store the values for the activation passed, the next layer activation calculated and the parameters W and b. This cache is used in back propagation function to pass the values required for a particular layer. "
   ]
  },
  {
   "cell_type": "code",
   "execution_count": 5,
   "metadata": {},
   "outputs": [],
   "source": [
    "\n",
    "\n",
    "def linear_forward(z_prev,W,b,activation):                       \n",
    "    a=W.dot(z_prev)+b\n",
    "    if activation=='ReLu':\n",
    "        z=Relu(a)\n",
    "    elif activation=='sig':\n",
    "        z=sig(a)\n",
    "    elif activation=='tanh':\n",
    "        z=tanh(a)\n",
    "    act_cache=(z,z_prev,W,b)\n",
    "    return z,act_cache"
   ]
  },
  {
   "cell_type": "markdown",
   "metadata": {},
   "source": [
    "Using cross entropy loss:"
   ]
  },
  {
   "cell_type": "code",
   "execution_count": 6,
   "metadata": {},
   "outputs": [],
   "source": [
    "def costfunc(z_final,y):\n",
    "    eps=10**-8\n",
    "    L=-np.log(z_final+eps).dot(y)-np.log(1-z_final+eps).dot(1-y)\n",
    "    L=np.squeeze(L)\n",
    "    return L"
   ]
  },
  {
   "cell_type": "markdown",
   "metadata": {},
   "source": [
    "Function for calculating all activations in forwards propagation:"
   ]
  },
  {
   "cell_type": "code",
   "execution_count": 7,
   "metadata": {},
   "outputs": [],
   "source": [
    "def fwd_prop(layers,parameters,z_prev,activ):  \n",
    "    \n",
    "    \n",
    "    caches=[]\n",
    "    for j in range(1,len(layers)):\n",
    "        W=parameters[\"W\"+str(j)]\n",
    "        b=parameters[\"b\"+str(j)]\n",
    "        if(j!=(len(layers)-1)):\n",
    "            if(activ=='Relu'):\n",
    "                z_prev,cach=linear_forward(z_prev,W,b,'ReLu')\n",
    "                \n",
    "            elif(activ=='tanh'):\n",
    "                z_prev,cach=linear_forward(z_prev,W,b,'tanh')\n",
    "                \n",
    "            elif(activ=='sig'):\n",
    "                z_prev,cach=linear_forward(z_prev,W,b,'sig')\n",
    "        \n",
    "        #For final layer only sigmoid is used:\n",
    "        elif(j==(len(layers)-1)):\n",
    "            z,cach=linear_forward(z_prev,W,b,'sig')\n",
    "            y_pred=z\n",
    "          \n",
    "        caches.append(cach)\n",
    "\n",
    "    return caches,y_pred"
   ]
  },
  {
   "cell_type": "markdown",
   "metadata": {},
   "source": [
    "Defining a dictionary grads which will be used to update the parameters:"
   ]
  },
  {
   "cell_type": "code",
   "execution_count": 8,
   "metadata": {},
   "outputs": [],
   "source": [
    "\n",
    "def gradients(layers):\n",
    "    parameters={}\n",
    "    L=len(layers)\n",
    "    for l in range(1,L):\n",
    "        grads['W'+str(l)]=np.zeros([layers[l],layers[l-1]])\n",
    "        grads['b'+str(l)]=np.zeros([layers[l],1])\n",
    "    return grads"
   ]
  },
  {
   "cell_type": "markdown",
   "metadata": {},
   "source": [
    "Using back propagation to update our params. In this we input caches containing the activations for a layer (the activation of that layer and the previous layer just before that), and the parameters W and b for the respective layers.\n",
    "\n"
   ]
  },
  {
   "cell_type": "code",
   "execution_count": 9,
   "metadata": {},
   "outputs": [],
   "source": [
    "def back_prop(caches,y,layers,activ):\n",
    "    current_cache=caches[-1]\n",
    "    z,z_prev,W,b=current_cache\n",
    "    \n",
    "    dz_final=(z-y.T)\n",
    "    da_final=np.multiply(dz_final,Dsig(z))\n",
    "    dw_final=da_final.dot(z_prev.T)\n",
    "    db_final=np.sum(da_final,axis=1)\n",
    "    db_final.resize(layers[len(layers)-1],1)\n",
    "    \n",
    "    grads['W'+str(len(caches))]=dw_final\n",
    "    grads['b'+str(len(caches))]=db_final\n",
    "    act_cache=[None]*(len(caches))\n",
    "    da=da_final\n",
    "    dz=W.T.dot(da)\n",
    "    act_cache[len(caches)-1]=(dz) \n",
    "    \n",
    "    for i in range(1,len(caches)):\n",
    "        dz=act_cache[len(caches)-i]\n",
    "        current_cache=caches[-1-i]\n",
    "        z,z_prev,W,b=current_cache\n",
    "        \n",
    "        if(activ=='Relu'):\n",
    "            da=dz*DRelu(z)\n",
    "        elif(activ=='tanh'):\n",
    "            da=dz*Dtanh(z)\n",
    "        elif(activ=='sig'):\n",
    "            da=dz*Dsig(z)\n",
    "        dz=W.T.dot(da)\n",
    "            \n",
    "        grads['W'+str(len(caches)-i)]=da.dot(z_prev.T)\n",
    "        grads['b'+str(len(caches)-i)]=np.sum(da,axis=1)\n",
    "        grads['b'+str(len(caches)-i)].resize(layers[len(layers)-1-i],1)\n",
    "        act_cache[len(caches)-1-i]=(dz)\n",
    "    return grads"
   ]
  },
  {
   "cell_type": "code",
   "execution_count": 10,
   "metadata": {},
   "outputs": [],
   "source": [
    "\n",
    "def update_paras(learning_rate,grads):\n",
    "    L=len(layers)\n",
    "    for l in range(1,L):\n",
    "        parameters['W'+str(l)]=parameters['W'+str(l)]-learning_rate*grads['W'+str(l)]\n",
    "        parameters['b'+str(l)]=parameters['b'+str(l)]-learning_rate*grads['b'+str(l)]\n",
    "      \n",
    "    return parameters"
   ]
  },
  {
   "cell_type": "code",
   "execution_count": 11,
   "metadata": {},
   "outputs": [
    {
     "name": "stdout",
     "output_type": "stream",
     "text": [
      "Enter number of layers:\n",
      "5\n",
      "Enter the number of units in the layers after the input layer:\n",
      "20\n",
      "30\n",
      "15\n",
      "10\n",
      "Enter activation functions for all layers before the final layer(Relu/tanh/sig):\n",
      "tanh\n",
      "Enter which distribution do you want to use to initialise the parameters (gaussian/uniform):\n",
      "gaussian\n",
      "Enter the learning rate:\n",
      "0.001\n"
     ]
    }
   ],
   "source": [
    "caches=[]\n",
    "grads={}\n",
    "parameters={}\n",
    "layers=[]\n",
    "costs=[]\n",
    "iterations=[]\n",
    "print(\"Enter number of layers:\")\n",
    "n=int(input())\n",
    "i=0\n",
    "print(\"Enter the number of units in the layers after the input layer:\")\n",
    "layers.append(x.shape[1])\n",
    "for i in range(1,n):\n",
    "    k=int(input())\n",
    "    layers.append(k)\n",
    "    \n",
    "print(\"Enter activation functions for all layers before the final layer(Relu/tanh/sig):\")\n",
    "activ=str(input())\n",
    "parameters=Initialisation(layers)\n",
    "grads=gradients(layers)\n",
    "print('Enter the learning rate:')\n",
    "l_r=float(input())\n",
    "z_prev=x.T\n",
    "for i in range(20000):\n",
    "    caches,y_pred=fwd_prop(layers,parameters,z_prev,activ)\n",
    "    grads=back_prop(caches,y,layers,activ)\n",
    "    update_paras(l_r,grads)\n",
    "    if(i%100==0):\n",
    "        l=costfunc(y_pred,y)\n",
    "        costs.append(l)\n",
    "        iterations.append(i)"
   ]
  },
  {
   "cell_type": "code",
   "execution_count": 41,
   "metadata": {},
   "outputs": [
    {
     "name": "stdout",
     "output_type": "stream",
     "text": [
      " for training data:\n",
      " accuracy: 94.86301369863014 %\n",
      " F1 score: 0.9480069324090122\n",
      "\n",
      " for testing data:\n",
      " accuracy: 88.69863013698631 %\n",
      " F1 score: 0.8938906752411576\n",
      "\n"
     ]
    },
    {
     "data": {
      "text/plain": [
       "<function matplotlib.pyplot.show(*args, **kw)>"
      ]
     },
     "execution_count": 41,
     "metadata": {},
     "output_type": "execute_result"
    },
    {
     "data": {
      "image/png": "[encoded data removed]",
      "text/plain": [
       "<Figure size 576x432 with 1 Axes>"
      ]
     },
     "metadata": {
      "needs_background": "light"
     },
     "output_type": "display_data"
    }
   ],
   "source": [
    "def predict(xx,yy,layerss,parameterss):\n",
    "    m=yy.shape[1]\n",
    "    Y_prediction = np.zeros([1,m])\n",
    "    temp=[]\n",
    "    temp,y_prediction=fwd_prop(layerss,parameterss,xx,activ)\n",
    "    for i in range(y_prediction.shape[1]):\n",
    "        Y_prediction[0,i] = 1 if y_prediction[0,i]>0.5 else 0\n",
    "   \n",
    "    print(\" accuracy: {} %\".format(100 - np.mean(np.abs(Y_prediction - yy)) * 100))   \n",
    "    \n",
    "    def my_precision_score(actual, predicted):\n",
    "        true_positives = len([a for a, p in zip(actual, predicted) if a == p and p == 1])\n",
    "        false_positives = len([a for a, p in zip(actual, predicted) if a != p and p == 1])\n",
    "        return true_positives / (true_positives + false_positives)\n",
    "\n",
    "    def my_recall_score(actual, predicted):\n",
    "        true_positives = len([a for a, p in zip(actual, predicted) if a == p and p == 1])\n",
    "        false_negatives = len([a for a, p in zip(actual, predicted) if a != p and p == 0])\n",
    "        return true_positives / (true_positives + false_negatives)\n",
    "\n",
    "\n",
    "    def my_f1_score(actual, predicted):\n",
    "        return 2 * (my_precision_score(actual, predicted) * my_recall_score(actual, predicted)) / (my_precision_score(actual, predicted) + my_recall_score(actual, predicted))\n",
    "\n",
    "    print(\" F1 score:\", my_f1_score(np.squeeze(yy), np.squeeze(Y_prediction)))\n",
    "\n",
    "    \n",
    "    return Y_prediction\n",
    "\n",
    "print(\" for training data:\")\n",
    "trained=predict(x.T,y.T,layers,parameters)\n",
    "print(\"\")\n",
    "\n",
    "print(\" for testing data:\")\n",
    "tested=predict(x_test.T,y_test.T,layers,parameters)\n",
    "print(\"\")\n",
    "\n",
    "plt.figure(figsize=(8,6))\n",
    "plt.plot(np.squeeze(costs))\n",
    "plt.xlabel('iterations per hundreds')\n",
    "plt.ylabel('cost')\n",
    "plt.show"
   ]
  },
  {
   "cell_type": "code",
   "execution_count": null,
   "metadata": {},
   "outputs": [],
   "source": []
  }
 ],
 "metadata": {
  "kernelspec": {
   "display_name": "Python 3",
   "language": "python",
   "name": "python3"
  },
  "language_info": {
   "codemirror_mode": {
    "name": "ipython",
    "version": 3
   },
   "file_extension": ".py",
   "mimetype": "text/x-python",
   "name": "python",
   "nbconvert_exporter": "python",
   "pygments_lexer": "ipython3",
   "version": "3.7.6"
  }
 },
 "nbformat": 4,
 "nbformat_minor": 4
}
